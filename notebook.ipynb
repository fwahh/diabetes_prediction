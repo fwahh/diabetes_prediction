{
 "cells": [
  {
   "cell_type": "code",
   "execution_count": 1,
   "id": "f9b31eb0",
   "metadata": {},
   "outputs": [],
   "source": [
    "import os\n",
    "\n",
    "import pandas as pd\n",
    "import numpy as np\n",
    "\n",
    "import seaborn as sns\n",
    "import matplotlib.pyplot as plt\n",
    "\n",
    "from sklearn.linear_model import LogisticRegression\n",
    "from sklearn.ensemble import RandomForestClassifier\n",
    "from sklearn.naive_bayes import CategoricalNB\n",
    "\n",
    "from sklearn.model_selection import train_test_split, GridSearchCV, RandomizedSearchCV\n",
    "from sklearn.metrics import accuracy_score, classification_report, confusion_matrix, recall_score"
   ]
  },
  {
   "cell_type": "code",
   "execution_count": 2,
   "id": "1f7d170f",
   "metadata": {
    "scrolled": true
   },
   "outputs": [
    {
     "data": {
      "text/html": [
       "<div>\n",
       "<style scoped>\n",
       "    .dataframe tbody tr th:only-of-type {\n",
       "        vertical-align: middle;\n",
       "    }\n",
       "\n",
       "    .dataframe tbody tr th {\n",
       "        vertical-align: top;\n",
       "    }\n",
       "\n",
       "    .dataframe thead th {\n",
       "        text-align: right;\n",
       "    }\n",
       "</style>\n",
       "<table border=\"1\" class=\"dataframe\">\n",
       "  <thead>\n",
       "    <tr style=\"text-align: right;\">\n",
       "      <th></th>\n",
       "      <th>Age</th>\n",
       "      <th>Gender</th>\n",
       "      <th>Polyuria</th>\n",
       "      <th>Polydipsia</th>\n",
       "      <th>sudden weight loss</th>\n",
       "      <th>weakness</th>\n",
       "      <th>Polyphagia</th>\n",
       "      <th>Genital thrush</th>\n",
       "      <th>visual blurring</th>\n",
       "      <th>Itching</th>\n",
       "      <th>Irritability</th>\n",
       "      <th>delayed healing</th>\n",
       "      <th>partial paresis</th>\n",
       "      <th>muscle stiffness</th>\n",
       "      <th>Alopecia</th>\n",
       "      <th>Obesity</th>\n",
       "      <th>class</th>\n",
       "    </tr>\n",
       "  </thead>\n",
       "  <tbody>\n",
       "    <tr>\n",
       "      <th>0</th>\n",
       "      <td>40</td>\n",
       "      <td>Male</td>\n",
       "      <td>No</td>\n",
       "      <td>Yes</td>\n",
       "      <td>No</td>\n",
       "      <td>Yes</td>\n",
       "      <td>No</td>\n",
       "      <td>No</td>\n",
       "      <td>No</td>\n",
       "      <td>Yes</td>\n",
       "      <td>No</td>\n",
       "      <td>Yes</td>\n",
       "      <td>No</td>\n",
       "      <td>Yes</td>\n",
       "      <td>Yes</td>\n",
       "      <td>Yes</td>\n",
       "      <td>Positive</td>\n",
       "    </tr>\n",
       "    <tr>\n",
       "      <th>1</th>\n",
       "      <td>58</td>\n",
       "      <td>Male</td>\n",
       "      <td>No</td>\n",
       "      <td>No</td>\n",
       "      <td>No</td>\n",
       "      <td>Yes</td>\n",
       "      <td>No</td>\n",
       "      <td>No</td>\n",
       "      <td>Yes</td>\n",
       "      <td>No</td>\n",
       "      <td>No</td>\n",
       "      <td>No</td>\n",
       "      <td>Yes</td>\n",
       "      <td>No</td>\n",
       "      <td>Yes</td>\n",
       "      <td>No</td>\n",
       "      <td>Positive</td>\n",
       "    </tr>\n",
       "    <tr>\n",
       "      <th>2</th>\n",
       "      <td>41</td>\n",
       "      <td>Male</td>\n",
       "      <td>Yes</td>\n",
       "      <td>No</td>\n",
       "      <td>No</td>\n",
       "      <td>Yes</td>\n",
       "      <td>Yes</td>\n",
       "      <td>No</td>\n",
       "      <td>No</td>\n",
       "      <td>Yes</td>\n",
       "      <td>No</td>\n",
       "      <td>Yes</td>\n",
       "      <td>No</td>\n",
       "      <td>Yes</td>\n",
       "      <td>Yes</td>\n",
       "      <td>No</td>\n",
       "      <td>Positive</td>\n",
       "    </tr>\n",
       "    <tr>\n",
       "      <th>3</th>\n",
       "      <td>45</td>\n",
       "      <td>Male</td>\n",
       "      <td>No</td>\n",
       "      <td>No</td>\n",
       "      <td>Yes</td>\n",
       "      <td>Yes</td>\n",
       "      <td>Yes</td>\n",
       "      <td>Yes</td>\n",
       "      <td>No</td>\n",
       "      <td>Yes</td>\n",
       "      <td>No</td>\n",
       "      <td>Yes</td>\n",
       "      <td>No</td>\n",
       "      <td>No</td>\n",
       "      <td>No</td>\n",
       "      <td>No</td>\n",
       "      <td>Positive</td>\n",
       "    </tr>\n",
       "    <tr>\n",
       "      <th>4</th>\n",
       "      <td>60</td>\n",
       "      <td>Male</td>\n",
       "      <td>Yes</td>\n",
       "      <td>Yes</td>\n",
       "      <td>Yes</td>\n",
       "      <td>Yes</td>\n",
       "      <td>Yes</td>\n",
       "      <td>No</td>\n",
       "      <td>Yes</td>\n",
       "      <td>Yes</td>\n",
       "      <td>Yes</td>\n",
       "      <td>Yes</td>\n",
       "      <td>Yes</td>\n",
       "      <td>Yes</td>\n",
       "      <td>Yes</td>\n",
       "      <td>Yes</td>\n",
       "      <td>Positive</td>\n",
       "    </tr>\n",
       "  </tbody>\n",
       "</table>\n",
       "</div>"
      ],
      "text/plain": [
       "   Age Gender Polyuria Polydipsia sudden weight loss weakness Polyphagia  \\\n",
       "0   40   Male       No        Yes                 No      Yes         No   \n",
       "1   58   Male       No         No                 No      Yes         No   \n",
       "2   41   Male      Yes         No                 No      Yes        Yes   \n",
       "3   45   Male       No         No                Yes      Yes        Yes   \n",
       "4   60   Male      Yes        Yes                Yes      Yes        Yes   \n",
       "\n",
       "  Genital thrush visual blurring Itching Irritability delayed healing  \\\n",
       "0             No              No     Yes           No             Yes   \n",
       "1             No             Yes      No           No              No   \n",
       "2             No              No     Yes           No             Yes   \n",
       "3            Yes              No     Yes           No             Yes   \n",
       "4             No             Yes     Yes          Yes             Yes   \n",
       "\n",
       "  partial paresis muscle stiffness Alopecia Obesity     class  \n",
       "0              No              Yes      Yes     Yes  Positive  \n",
       "1             Yes               No      Yes      No  Positive  \n",
       "2              No              Yes      Yes      No  Positive  \n",
       "3              No               No       No      No  Positive  \n",
       "4             Yes              Yes      Yes     Yes  Positive  "
      ]
     },
     "execution_count": 2,
     "metadata": {},
     "output_type": "execute_result"
    }
   ],
   "source": [
    "data_path = os.path.join('data', 'diabetes.csv')\n",
    "df = pd.read_csv(data_path)\n",
    "df.head()"
   ]
  },
  {
   "cell_type": "code",
   "execution_count": 3,
   "id": "a86a1d48",
   "metadata": {},
   "outputs": [
    {
     "data": {
      "text/plain": [
       "(520, 17)"
      ]
     },
     "execution_count": 3,
     "metadata": {},
     "output_type": "execute_result"
    }
   ],
   "source": [
    "df.shape"
   ]
  },
  {
   "cell_type": "code",
   "execution_count": 4,
   "id": "8a4cde8c",
   "metadata": {},
   "outputs": [
    {
     "data": {
      "text/plain": [
       "Age                    int64\n",
       "Gender                object\n",
       "Polyuria              object\n",
       "Polydipsia            object\n",
       "sudden weight loss    object\n",
       "weakness              object\n",
       "Polyphagia            object\n",
       "Genital thrush        object\n",
       "visual blurring       object\n",
       "Itching               object\n",
       "Irritability          object\n",
       "delayed healing       object\n",
       "partial paresis       object\n",
       "muscle stiffness      object\n",
       "Alopecia              object\n",
       "Obesity               object\n",
       "class                 object\n",
       "dtype: object"
      ]
     },
     "execution_count": 4,
     "metadata": {},
     "output_type": "execute_result"
    }
   ],
   "source": [
    "df.dtypes"
   ]
  },
  {
   "cell_type": "code",
   "execution_count": 5,
   "id": "4b3f9ad0",
   "metadata": {
    "scrolled": true
   },
   "outputs": [
    {
     "data": {
      "text/plain": [
       "Age                   0\n",
       "Gender                0\n",
       "Polyuria              0\n",
       "Polydipsia            0\n",
       "sudden weight loss    0\n",
       "weakness              0\n",
       "Polyphagia            0\n",
       "Genital thrush        0\n",
       "visual blurring       0\n",
       "Itching               0\n",
       "Irritability          0\n",
       "delayed healing       0\n",
       "partial paresis       0\n",
       "muscle stiffness      0\n",
       "Alopecia              0\n",
       "Obesity               0\n",
       "class                 0\n",
       "dtype: int64"
      ]
     },
     "execution_count": 5,
     "metadata": {},
     "output_type": "execute_result"
    }
   ],
   "source": [
    "df.isnull().sum()"
   ]
  },
  {
   "cell_type": "code",
   "execution_count": 6,
   "id": "6edde85a",
   "metadata": {},
   "outputs": [
    {
     "data": {
      "text/plain": [
       "Male      328\n",
       "Female    192\n",
       "Name: Gender, dtype: int64"
      ]
     },
     "execution_count": 6,
     "metadata": {},
     "output_type": "execute_result"
    }
   ],
   "source": [
    "df['Gender'].value_counts()"
   ]
  },
  {
   "cell_type": "markdown",
   "id": "fadf0a02",
   "metadata": {},
   "source": [
    "### Data Pre-processing"
   ]
  },
  {
   "cell_type": "code",
   "execution_count": 7,
   "id": "9e573f02",
   "metadata": {},
   "outputs": [
    {
     "data": {
      "text/html": [
       "<div>\n",
       "<style scoped>\n",
       "    .dataframe tbody tr th:only-of-type {\n",
       "        vertical-align: middle;\n",
       "    }\n",
       "\n",
       "    .dataframe tbody tr th {\n",
       "        vertical-align: top;\n",
       "    }\n",
       "\n",
       "    .dataframe thead th {\n",
       "        text-align: right;\n",
       "    }\n",
       "</style>\n",
       "<table border=\"1\" class=\"dataframe\">\n",
       "  <thead>\n",
       "    <tr style=\"text-align: right;\">\n",
       "      <th></th>\n",
       "      <th>age</th>\n",
       "      <th>gender</th>\n",
       "      <th>polyuria</th>\n",
       "      <th>polydipsia</th>\n",
       "      <th>sudden weight loss</th>\n",
       "      <th>weakness</th>\n",
       "      <th>polyphagia</th>\n",
       "      <th>genital thrush</th>\n",
       "      <th>visual blurring</th>\n",
       "      <th>itching</th>\n",
       "      <th>irritability</th>\n",
       "      <th>delayed healing</th>\n",
       "      <th>partial paresis</th>\n",
       "      <th>muscle stiffness</th>\n",
       "      <th>alopecia</th>\n",
       "      <th>obesity</th>\n",
       "      <th>class</th>\n",
       "    </tr>\n",
       "  </thead>\n",
       "  <tbody>\n",
       "    <tr>\n",
       "      <th>0</th>\n",
       "      <td>40</td>\n",
       "      <td>0</td>\n",
       "      <td>0</td>\n",
       "      <td>1</td>\n",
       "      <td>0</td>\n",
       "      <td>1</td>\n",
       "      <td>0</td>\n",
       "      <td>0</td>\n",
       "      <td>0</td>\n",
       "      <td>1</td>\n",
       "      <td>0</td>\n",
       "      <td>1</td>\n",
       "      <td>0</td>\n",
       "      <td>1</td>\n",
       "      <td>1</td>\n",
       "      <td>1</td>\n",
       "      <td>1</td>\n",
       "    </tr>\n",
       "    <tr>\n",
       "      <th>1</th>\n",
       "      <td>58</td>\n",
       "      <td>0</td>\n",
       "      <td>0</td>\n",
       "      <td>0</td>\n",
       "      <td>0</td>\n",
       "      <td>1</td>\n",
       "      <td>0</td>\n",
       "      <td>0</td>\n",
       "      <td>1</td>\n",
       "      <td>0</td>\n",
       "      <td>0</td>\n",
       "      <td>0</td>\n",
       "      <td>1</td>\n",
       "      <td>0</td>\n",
       "      <td>1</td>\n",
       "      <td>0</td>\n",
       "      <td>1</td>\n",
       "    </tr>\n",
       "    <tr>\n",
       "      <th>2</th>\n",
       "      <td>41</td>\n",
       "      <td>0</td>\n",
       "      <td>1</td>\n",
       "      <td>0</td>\n",
       "      <td>0</td>\n",
       "      <td>1</td>\n",
       "      <td>1</td>\n",
       "      <td>0</td>\n",
       "      <td>0</td>\n",
       "      <td>1</td>\n",
       "      <td>0</td>\n",
       "      <td>1</td>\n",
       "      <td>0</td>\n",
       "      <td>1</td>\n",
       "      <td>1</td>\n",
       "      <td>0</td>\n",
       "      <td>1</td>\n",
       "    </tr>\n",
       "    <tr>\n",
       "      <th>3</th>\n",
       "      <td>45</td>\n",
       "      <td>0</td>\n",
       "      <td>0</td>\n",
       "      <td>0</td>\n",
       "      <td>1</td>\n",
       "      <td>1</td>\n",
       "      <td>1</td>\n",
       "      <td>1</td>\n",
       "      <td>0</td>\n",
       "      <td>1</td>\n",
       "      <td>0</td>\n",
       "      <td>1</td>\n",
       "      <td>0</td>\n",
       "      <td>0</td>\n",
       "      <td>0</td>\n",
       "      <td>0</td>\n",
       "      <td>1</td>\n",
       "    </tr>\n",
       "    <tr>\n",
       "      <th>4</th>\n",
       "      <td>60</td>\n",
       "      <td>0</td>\n",
       "      <td>1</td>\n",
       "      <td>1</td>\n",
       "      <td>1</td>\n",
       "      <td>1</td>\n",
       "      <td>1</td>\n",
       "      <td>0</td>\n",
       "      <td>1</td>\n",
       "      <td>1</td>\n",
       "      <td>1</td>\n",
       "      <td>1</td>\n",
       "      <td>1</td>\n",
       "      <td>1</td>\n",
       "      <td>1</td>\n",
       "      <td>1</td>\n",
       "      <td>1</td>\n",
       "    </tr>\n",
       "  </tbody>\n",
       "</table>\n",
       "</div>"
      ],
      "text/plain": [
       "   age  gender  polyuria  polydipsia  sudden weight loss  weakness  \\\n",
       "0   40       0         0           1                   0         1   \n",
       "1   58       0         0           0                   0         1   \n",
       "2   41       0         1           0                   0         1   \n",
       "3   45       0         0           0                   1         1   \n",
       "4   60       0         1           1                   1         1   \n",
       "\n",
       "   polyphagia  genital thrush  visual blurring  itching  irritability  \\\n",
       "0           0               0                0        1             0   \n",
       "1           0               0                1        0             0   \n",
       "2           1               0                0        1             0   \n",
       "3           1               1                0        1             0   \n",
       "4           1               0                1        1             1   \n",
       "\n",
       "   delayed healing  partial paresis  muscle stiffness  alopecia  obesity  \\\n",
       "0                1                0                 1         1        1   \n",
       "1                0                1                 0         1        0   \n",
       "2                1                0                 1         1        0   \n",
       "3                1                0                 0         0        0   \n",
       "4                1                1                 1         1        1   \n",
       "\n",
       "   class  \n",
       "0      1  \n",
       "1      1  \n",
       "2      1  \n",
       "3      1  \n",
       "4      1  "
      ]
     },
     "execution_count": 7,
     "metadata": {},
     "output_type": "execute_result"
    }
   ],
   "source": [
    "df.columns = [var.lower() for var in df.columns]\n",
    "df = df.applymap(lambda val: (1 if val in ('Yes', 'Positive', 'Female') \n",
    "                              else 0 if val in ('No', 'Negative', 'Male')\n",
    "                              else val))\n",
    "df.head()                              "
   ]
  },
  {
   "cell_type": "code",
   "execution_count": 8,
   "id": "ae595117",
   "metadata": {},
   "outputs": [
    {
     "data": {
      "text/html": [
       "<div>\n",
       "<style scoped>\n",
       "    .dataframe tbody tr th:only-of-type {\n",
       "        vertical-align: middle;\n",
       "    }\n",
       "\n",
       "    .dataframe tbody tr th {\n",
       "        vertical-align: top;\n",
       "    }\n",
       "\n",
       "    .dataframe thead th {\n",
       "        text-align: right;\n",
       "    }\n",
       "</style>\n",
       "<table border=\"1\" class=\"dataframe\">\n",
       "  <thead>\n",
       "    <tr style=\"text-align: right;\">\n",
       "      <th></th>\n",
       "      <th>age</th>\n",
       "      <th>gender</th>\n",
       "      <th>polyuria</th>\n",
       "      <th>polydipsia</th>\n",
       "      <th>sudden weight loss</th>\n",
       "      <th>weakness</th>\n",
       "      <th>polyphagia</th>\n",
       "      <th>genital thrush</th>\n",
       "      <th>visual blurring</th>\n",
       "      <th>itching</th>\n",
       "      <th>irritability</th>\n",
       "      <th>delayed healing</th>\n",
       "      <th>partial paresis</th>\n",
       "      <th>muscle stiffness</th>\n",
       "      <th>alopecia</th>\n",
       "      <th>obesity</th>\n",
       "      <th>class</th>\n",
       "    </tr>\n",
       "  </thead>\n",
       "  <tbody>\n",
       "    <tr>\n",
       "      <th>count</th>\n",
       "      <td>520.000000</td>\n",
       "      <td>520.000000</td>\n",
       "      <td>520.000000</td>\n",
       "      <td>520.000000</td>\n",
       "      <td>520.000000</td>\n",
       "      <td>520.000000</td>\n",
       "      <td>520.000000</td>\n",
       "      <td>520.000000</td>\n",
       "      <td>520.000000</td>\n",
       "      <td>520.000000</td>\n",
       "      <td>520.000000</td>\n",
       "      <td>520.000000</td>\n",
       "      <td>520.000000</td>\n",
       "      <td>520.000000</td>\n",
       "      <td>520.000000</td>\n",
       "      <td>520.000000</td>\n",
       "      <td>520.000000</td>\n",
       "    </tr>\n",
       "    <tr>\n",
       "      <th>mean</th>\n",
       "      <td>48.028846</td>\n",
       "      <td>0.369231</td>\n",
       "      <td>0.496154</td>\n",
       "      <td>0.448077</td>\n",
       "      <td>0.417308</td>\n",
       "      <td>0.586538</td>\n",
       "      <td>0.455769</td>\n",
       "      <td>0.223077</td>\n",
       "      <td>0.448077</td>\n",
       "      <td>0.486538</td>\n",
       "      <td>0.242308</td>\n",
       "      <td>0.459615</td>\n",
       "      <td>0.430769</td>\n",
       "      <td>0.375000</td>\n",
       "      <td>0.344231</td>\n",
       "      <td>0.169231</td>\n",
       "      <td>0.615385</td>\n",
       "    </tr>\n",
       "    <tr>\n",
       "      <th>std</th>\n",
       "      <td>12.151466</td>\n",
       "      <td>0.483061</td>\n",
       "      <td>0.500467</td>\n",
       "      <td>0.497776</td>\n",
       "      <td>0.493589</td>\n",
       "      <td>0.492928</td>\n",
       "      <td>0.498519</td>\n",
       "      <td>0.416710</td>\n",
       "      <td>0.497776</td>\n",
       "      <td>0.500300</td>\n",
       "      <td>0.428892</td>\n",
       "      <td>0.498846</td>\n",
       "      <td>0.495661</td>\n",
       "      <td>0.484589</td>\n",
       "      <td>0.475574</td>\n",
       "      <td>0.375317</td>\n",
       "      <td>0.486973</td>\n",
       "    </tr>\n",
       "    <tr>\n",
       "      <th>min</th>\n",
       "      <td>16.000000</td>\n",
       "      <td>0.000000</td>\n",
       "      <td>0.000000</td>\n",
       "      <td>0.000000</td>\n",
       "      <td>0.000000</td>\n",
       "      <td>0.000000</td>\n",
       "      <td>0.000000</td>\n",
       "      <td>0.000000</td>\n",
       "      <td>0.000000</td>\n",
       "      <td>0.000000</td>\n",
       "      <td>0.000000</td>\n",
       "      <td>0.000000</td>\n",
       "      <td>0.000000</td>\n",
       "      <td>0.000000</td>\n",
       "      <td>0.000000</td>\n",
       "      <td>0.000000</td>\n",
       "      <td>0.000000</td>\n",
       "    </tr>\n",
       "    <tr>\n",
       "      <th>25%</th>\n",
       "      <td>39.000000</td>\n",
       "      <td>0.000000</td>\n",
       "      <td>0.000000</td>\n",
       "      <td>0.000000</td>\n",
       "      <td>0.000000</td>\n",
       "      <td>0.000000</td>\n",
       "      <td>0.000000</td>\n",
       "      <td>0.000000</td>\n",
       "      <td>0.000000</td>\n",
       "      <td>0.000000</td>\n",
       "      <td>0.000000</td>\n",
       "      <td>0.000000</td>\n",
       "      <td>0.000000</td>\n",
       "      <td>0.000000</td>\n",
       "      <td>0.000000</td>\n",
       "      <td>0.000000</td>\n",
       "      <td>0.000000</td>\n",
       "    </tr>\n",
       "    <tr>\n",
       "      <th>50%</th>\n",
       "      <td>47.500000</td>\n",
       "      <td>0.000000</td>\n",
       "      <td>0.000000</td>\n",
       "      <td>0.000000</td>\n",
       "      <td>0.000000</td>\n",
       "      <td>1.000000</td>\n",
       "      <td>0.000000</td>\n",
       "      <td>0.000000</td>\n",
       "      <td>0.000000</td>\n",
       "      <td>0.000000</td>\n",
       "      <td>0.000000</td>\n",
       "      <td>0.000000</td>\n",
       "      <td>0.000000</td>\n",
       "      <td>0.000000</td>\n",
       "      <td>0.000000</td>\n",
       "      <td>0.000000</td>\n",
       "      <td>1.000000</td>\n",
       "    </tr>\n",
       "    <tr>\n",
       "      <th>75%</th>\n",
       "      <td>57.000000</td>\n",
       "      <td>1.000000</td>\n",
       "      <td>1.000000</td>\n",
       "      <td>1.000000</td>\n",
       "      <td>1.000000</td>\n",
       "      <td>1.000000</td>\n",
       "      <td>1.000000</td>\n",
       "      <td>0.000000</td>\n",
       "      <td>1.000000</td>\n",
       "      <td>1.000000</td>\n",
       "      <td>0.000000</td>\n",
       "      <td>1.000000</td>\n",
       "      <td>1.000000</td>\n",
       "      <td>1.000000</td>\n",
       "      <td>1.000000</td>\n",
       "      <td>0.000000</td>\n",
       "      <td>1.000000</td>\n",
       "    </tr>\n",
       "    <tr>\n",
       "      <th>max</th>\n",
       "      <td>90.000000</td>\n",
       "      <td>1.000000</td>\n",
       "      <td>1.000000</td>\n",
       "      <td>1.000000</td>\n",
       "      <td>1.000000</td>\n",
       "      <td>1.000000</td>\n",
       "      <td>1.000000</td>\n",
       "      <td>1.000000</td>\n",
       "      <td>1.000000</td>\n",
       "      <td>1.000000</td>\n",
       "      <td>1.000000</td>\n",
       "      <td>1.000000</td>\n",
       "      <td>1.000000</td>\n",
       "      <td>1.000000</td>\n",
       "      <td>1.000000</td>\n",
       "      <td>1.000000</td>\n",
       "      <td>1.000000</td>\n",
       "    </tr>\n",
       "  </tbody>\n",
       "</table>\n",
       "</div>"
      ],
      "text/plain": [
       "              age      gender    polyuria  polydipsia  sudden weight loss  \\\n",
       "count  520.000000  520.000000  520.000000  520.000000          520.000000   \n",
       "mean    48.028846    0.369231    0.496154    0.448077            0.417308   \n",
       "std     12.151466    0.483061    0.500467    0.497776            0.493589   \n",
       "min     16.000000    0.000000    0.000000    0.000000            0.000000   \n",
       "25%     39.000000    0.000000    0.000000    0.000000            0.000000   \n",
       "50%     47.500000    0.000000    0.000000    0.000000            0.000000   \n",
       "75%     57.000000    1.000000    1.000000    1.000000            1.000000   \n",
       "max     90.000000    1.000000    1.000000    1.000000            1.000000   \n",
       "\n",
       "         weakness  polyphagia  genital thrush  visual blurring     itching  \\\n",
       "count  520.000000  520.000000      520.000000       520.000000  520.000000   \n",
       "mean     0.586538    0.455769        0.223077         0.448077    0.486538   \n",
       "std      0.492928    0.498519        0.416710         0.497776    0.500300   \n",
       "min      0.000000    0.000000        0.000000         0.000000    0.000000   \n",
       "25%      0.000000    0.000000        0.000000         0.000000    0.000000   \n",
       "50%      1.000000    0.000000        0.000000         0.000000    0.000000   \n",
       "75%      1.000000    1.000000        0.000000         1.000000    1.000000   \n",
       "max      1.000000    1.000000        1.000000         1.000000    1.000000   \n",
       "\n",
       "       irritability  delayed healing  partial paresis  muscle stiffness  \\\n",
       "count    520.000000       520.000000       520.000000        520.000000   \n",
       "mean       0.242308         0.459615         0.430769          0.375000   \n",
       "std        0.428892         0.498846         0.495661          0.484589   \n",
       "min        0.000000         0.000000         0.000000          0.000000   \n",
       "25%        0.000000         0.000000         0.000000          0.000000   \n",
       "50%        0.000000         0.000000         0.000000          0.000000   \n",
       "75%        0.000000         1.000000         1.000000          1.000000   \n",
       "max        1.000000         1.000000         1.000000          1.000000   \n",
       "\n",
       "         alopecia     obesity       class  \n",
       "count  520.000000  520.000000  520.000000  \n",
       "mean     0.344231    0.169231    0.615385  \n",
       "std      0.475574    0.375317    0.486973  \n",
       "min      0.000000    0.000000    0.000000  \n",
       "25%      0.000000    0.000000    0.000000  \n",
       "50%      0.000000    0.000000    1.000000  \n",
       "75%      1.000000    0.000000    1.000000  \n",
       "max      1.000000    1.000000    1.000000  "
      ]
     },
     "execution_count": 8,
     "metadata": {},
     "output_type": "execute_result"
    }
   ],
   "source": [
    "df.describe()"
   ]
  },
  {
   "cell_type": "markdown",
   "id": "ce633c91",
   "metadata": {},
   "source": [
    "### Splitting the data"
   ]
  },
  {
   "cell_type": "code",
   "execution_count": 9,
   "id": "302db5ea",
   "metadata": {},
   "outputs": [
    {
     "data": {
      "text/plain": [
       "44185"
      ]
     },
     "execution_count": 9,
     "metadata": {},
     "output_type": "execute_result"
    }
   ],
   "source": [
    "seed = np.random.randint(0, 100000)\n",
    "seed"
   ]
  },
  {
   "cell_type": "markdown",
   "id": "3ae1969a",
   "metadata": {},
   "source": [
    "We'll only be splitting into train and test set instead of train, validation and test set as cross validation will be used on the train set itself."
   ]
  },
  {
   "cell_type": "code",
   "execution_count": 10,
   "id": "fa3de703",
   "metadata": {},
   "outputs": [
    {
     "data": {
      "text/plain": [
       "(416, 104)"
      ]
     },
     "execution_count": 10,
     "metadata": {},
     "output_type": "execute_result"
    }
   ],
   "source": [
    "df_train, df_test = train_test_split(df, test_size=0.2, random_state=86431)\n",
    "len(df_train), len(df_test)"
   ]
  },
  {
   "cell_type": "code",
   "execution_count": 11,
   "id": "114f972c",
   "metadata": {},
   "outputs": [],
   "source": [
    "df_train = df_train.reset_index(drop=True)\n",
    "df_test = df_test.reset_index(drop=True)\n",
    "\n",
    "y_train = df_train['class'].values\n",
    "y_test = df_test['class'].values\n",
    "\n",
    "del df_train['class']\n",
    "del df_test['class']"
   ]
  },
  {
   "cell_type": "markdown",
   "id": "8129c668",
   "metadata": {},
   "source": [
    "Small sanity check to see if any class is overly represented in the training set. Note that when we ran df.describe() earlier. The mean of the class column was 0.615385, which is pretty close to what's shown."
   ]
  },
  {
   "cell_type": "code",
   "execution_count": 12,
   "id": "3fbbc579",
   "metadata": {},
   "outputs": [
    {
     "data": {
      "text/plain": [
       "0.6105769230769231"
      ]
     },
     "execution_count": 12,
     "metadata": {},
     "output_type": "execute_result"
    }
   ],
   "source": [
    "y_train.mean()"
   ]
  },
  {
   "cell_type": "markdown",
   "id": "979bf3ee",
   "metadata": {},
   "source": [
    "### Exploring the data"
   ]
  },
  {
   "cell_type": "markdown",
   "id": "2fe1e4fa",
   "metadata": {},
   "source": [
    "We'll first check to see the 'correlation' between features. We see below that most variables are weakly or medium correlated with each other. In the absence of any strong correlation between features, there is no strong case to remove any features. Though, this could mean that models which assume independence between features, such as logistic regression, might not perform well in classification task due to violation of underlying assumption. \n",
    "\n",
    "Another point to note is that most of the features are categorical features. Hence, it would be more correct to check for association between features with the Chi-square test."
   ]
  },
  {
   "cell_type": "code",
   "execution_count": 13,
   "id": "a6167a33",
   "metadata": {},
   "outputs": [
    {
     "data": {
      "text/plain": [
       "<AxesSubplot:>"
      ]
     },
     "execution_count": 13,
     "metadata": {},
     "output_type": "execute_result"
    },
    {
     "data": {
      "image/png": "[encoded data removed]",
      "text/plain": [
       "<Figure size 1440x1152 with 2 Axes>"
      ]
     },
     "metadata": {
      "needs_background": "light"
     },
     "output_type": "display_data"
    }
   ],
   "source": [
    "plt.figure(figsize=(20, 16))\n",
    "sns.heatmap(corr:=df_train.corr(),\n",
    "            vmin=-1,\n",
    "            vmax=1,\n",
    "            xticklabels=corr.columns, \n",
    "            yticklabels=corr.columns, \n",
    "            annot=True, \n",
    "            cmap=sns.diverging_palette(220, 20, as_cmap=True))"
   ]
  },
  {
   "cell_type": "code",
   "execution_count": 14,
   "id": "c1863804",
   "metadata": {},
   "outputs": [],
   "source": [
    "from sklearn.feature_selection import chi2"
   ]
  },
  {
   "cell_type": "code",
   "execution_count": 15,
   "id": "08f31b9d",
   "metadata": {},
   "outputs": [
    {
     "data": {
      "text/plain": [
       "itching               6.893127e-01\n",
       "delayed healing       5.769436e-01\n",
       "obesity               5.127059e-01\n",
       "muscle stiffness      1.729739e-01\n",
       "genital thrush        2.977744e-02\n",
       "weakness              3.789147e-03\n",
       "visual blurring       1.716424e-04\n",
       "alopecia              4.084812e-06\n",
       "polyphagia            1.451276e-06\n",
       "irritability          1.206843e-06\n",
       "partial paresis       3.661582e-11\n",
       "sudden weight loss    2.736153e-13\n",
       "polyuria              2.584194e-22\n",
       "polydipsia            4.033327e-23\n",
       "dtype: float64"
      ]
     },
     "execution_count": 15,
     "metadata": {},
     "output_type": "execute_result"
    }
   ],
   "source": [
    "categorical_vars = [col for col in df_train.columns if col not in ('age')]\n",
    "chi_stat, p_value = chi2(df_train[categorical_vars], y_train)\n",
    "p_value_df = pd.Series(p_value,index=categorical_vars)\n",
    "p_value_df.sort_values(ascending=False)"
   ]
  },
  {
   "cell_type": "code",
   "execution_count": 16,
   "id": "48daeb2d",
   "metadata": {},
   "outputs": [
    {
     "data": {
      "text/plain": [
       "0.17297394118823511"
      ]
     },
     "execution_count": 16,
     "metadata": {},
     "output_type": "execute_result"
    }
   ],
   "source": [
    "p_value_df['muscle stiffness']"
   ]
  },
  {
   "cell_type": "code",
   "execution_count": 17,
   "id": "5b84d0fc",
   "metadata": {},
   "outputs": [
    {
     "data": {
      "text/plain": [
       "0.029777443977362268"
      ]
     },
     "execution_count": 17,
     "metadata": {},
     "output_type": "execute_result"
    }
   ],
   "source": [
    "p_value_df['genital thrush']"
   ]
  },
  {
   "cell_type": "markdown",
   "id": "ab66b296",
   "metadata": {},
   "source": [
    "### Evaluating feature importance of variables with ROC AUC"
   ]
  },
  {
   "cell_type": "code",
   "execution_count": 20,
   "id": "c619e4a8",
   "metadata": {},
   "outputs": [
    {
     "name": "stdout",
     "output_type": "stream",
     "text": [
      "age                 : 0.5605254204335569\n",
      "gender              : 0.7382861864489161\n",
      "polyuria            : 0.8428842228054827\n",
      "polydipsia          : 0.8346942743268203\n",
      "sudden weight loss  : 0.7355156994264606\n",
      "weakness            : 0.6121561193739672\n",
      "polyphagia          : 0.6628268688636142\n",
      "genital thrush      : 0.5490910858364927\n",
      "visual blurring     : 0.6299941673957421\n",
      "itching             : 0.5143141829493536\n",
      "irritability        : 0.6190580344123652\n",
      "delayed healing     : 0.519053173908817\n",
      "partial paresis     : 0.7169971809079421\n",
      "muscle stiffness    : 0.5414114902303878\n",
      "alopecia            : 0.6372120151647711\n",
      "obesity             : 0.5128074268494216\n"
     ]
    }
   ],
   "source": [
    "from sklearn.metrics import roc_auc_score\n",
    "for var in df_train.columns:\n",
    "    score = roc_auc_score(y_train, df_train[var])\n",
    "    if score < 0.5:\n",
    "        score = roc_auc_score(y_train, -df_train[var])\n",
    "    print(f'{var:20}: {score}')"
   ]
  },
  {
   "cell_type": "markdown",
   "id": "c18f29db",
   "metadata": {},
   "source": [
    "### Modelling: Logistic Regression"
   ]
  },
  {
   "cell_type": "code",
   "execution_count": 22,
   "id": "1a61ad2a",
   "metadata": {},
   "outputs": [
    {
     "data": {
      "text/plain": [
       "LogisticRegression(max_iter=1000, solver='liblinear')"
      ]
     },
     "execution_count": 22,
     "metadata": {},
     "output_type": "execute_result"
    }
   ],
   "source": [
    "model = LogisticRegression(solver='liblinear', C=1.0, max_iter=1000)\n",
    "model.fit(df_train, y_train)"
   ]
  },
  {
   "cell_type": "code",
   "execution_count": 23,
   "id": "e6b5d8ed",
   "metadata": {},
   "outputs": [
    {
     "data": {
      "text/plain": [
       "0.9832535885167464"
      ]
     },
     "execution_count": 23,
     "metadata": {},
     "output_type": "execute_result"
    }
   ],
   "source": [
    "y_pred_proba = model.predict_proba(df_test)[:, 1]\n",
    "roc_auc_score(y_test, y_pred_proba)"
   ]
  },
  {
   "cell_type": "code",
   "execution_count": 26,
   "id": "a636a8fc",
   "metadata": {},
   "outputs": [
    {
     "data": {
      "text/plain": [
       "array([[34,  4],\n",
       "       [ 5, 61]], dtype=int64)"
      ]
     },
     "execution_count": 26,
     "metadata": {},
     "output_type": "execute_result"
    }
   ],
   "source": [
    "y_pred = model.predict(df_test)\n",
    "confusion_matrix(y_test, y_pred, labels=[0,1])"
   ]
  },
  {
   "cell_type": "code",
   "execution_count": 27,
   "id": "d49c4e54",
   "metadata": {},
   "outputs": [
    {
     "name": "stdout",
     "output_type": "stream",
     "text": [
      "Test Accuracy: 0.9134615384615384\n",
      "Test Classification Report: \n",
      "               precision    recall  f1-score   support\n",
      "\n",
      "           0       0.87      0.89      0.88        38\n",
      "           1       0.94      0.92      0.93        66\n",
      "\n",
      "    accuracy                           0.91       104\n",
      "   macro avg       0.91      0.91      0.91       104\n",
      "weighted avg       0.91      0.91      0.91       104\n",
      "\n"
     ]
    }
   ],
   "source": [
    "print(f'Test Accuracy: {accuracy_score(y_test, y_pred)}')\n",
    "print(f'Test Classification Report: \\n {classification_report(y_test, y_pred)}')"
   ]
  },
  {
   "cell_type": "markdown",
   "id": "0efb51d9",
   "metadata": {},
   "source": [
    "### Modelling: Random Forest Classifier"
   ]
  },
  {
   "cell_type": "code",
   "execution_count": 30,
   "id": "3ac4d2f8",
   "metadata": {},
   "outputs": [],
   "source": [
    "rfc_params = {'n_estimators': 100,\n",
    "               'max_features': 'auto',\n",
    "               'max_depth': 10,\n",
    "               'min_samples_split': 10,\n",
    "               'min_samples_leaf': 2,\n",
    "               'bootstrap': True}\n",
    "rfc = RandomForestClassifier(**rfc_params, random_state=86431)\n",
    "rfc.fit(df_train, y_train)\n",
    "\n",
    "y_pred = rfc.predict(df_test)"
   ]
  },
  {
   "cell_type": "code",
   "execution_count": 31,
   "id": "56be2020",
   "metadata": {},
   "outputs": [
    {
     "data": {
      "text/plain": [
       "array([[36,  2],\n",
       "       [ 2, 64]], dtype=int64)"
      ]
     },
     "execution_count": 31,
     "metadata": {},
     "output_type": "execute_result"
    }
   ],
   "source": [
    "confusion_matrix(y_test, y_pred, labels=[0,1])"
   ]
  },
  {
   "cell_type": "code",
   "execution_count": 32,
   "id": "e5ee919f",
   "metadata": {},
   "outputs": [
    {
     "name": "stdout",
     "output_type": "stream",
     "text": [
      "Test Accuracy: 0.9615384615384616\n",
      "Test Classification Report: \n",
      "               precision    recall  f1-score   support\n",
      "\n",
      "           0       0.95      0.95      0.95        38\n",
      "           1       0.97      0.97      0.97        66\n",
      "\n",
      "    accuracy                           0.96       104\n",
      "   macro avg       0.96      0.96      0.96       104\n",
      "weighted avg       0.96      0.96      0.96       104\n",
      "\n"
     ]
    }
   ],
   "source": [
    "print(f'Test Accuracy: {accuracy_score(y_test, y_pred)}')\n",
    "print(f'Test Classification Report: \\n {classification_report(y_test, y_pred)}')"
   ]
  },
  {
   "cell_type": "markdown",
   "id": "6a1b5724",
   "metadata": {},
   "source": [
    "#### Hyperparameter tuning"
   ]
  },
  {
   "cell_type": "code",
   "execution_count": null,
   "id": "fd590b69",
   "metadata": {},
   "outputs": [],
   "source": [
    "# Number of trees in random forest\n",
    "n_estimators = [int(x) for x in range(100,501,10)]\n",
    "\n",
    "# Maximum number of levels in tree\n",
    "max_depth = [int(x) for x in np.linspace(10, 110, num = 11)]\n",
    "max_depth.append(None)\n",
    "\n",
    "# Minimum number of samples required to split a node\n",
    "min_samples_split = [2, 5, 10]\n",
    "\n",
    "# Minimum number of samples required at each leaf node\n",
    "min_samples_leaf = [1, 2, 4]\n",
    "\n",
    "# Method of selecting samples for training each tree\n",
    "bootstrap = [True, False]\n",
    "\n",
    "# Create the random grid\n",
    "random_grid = {'n_estimators': n_estimators,\n",
    "               'max_features': max_features,\n",
    "               'max_depth': max_depth,\n",
    "               'min_samples_split': min_samples_split,\n",
    "               'min_samples_leaf': min_samples_leaf,\n",
    "               'bootstrap': bootstrap}"
   ]
  },
  {
   "cell_type": "code",
   "execution_count": null,
   "id": "4ea76bc1",
   "metadata": {},
   "outputs": [],
   "source": [
    "rfc = RandomForestClassifier()\n",
    "rfc_random = RandomizedSearchCV(estimator = rfc, \n",
    "                                param_distributions = random_grid, \n",
    "                                n_iter = 100, \n",
    "                                cv = 5, \n",
    "                                verbose=2, \n",
    "                                random_state=86431)\n",
    "\n",
    "# Fit the random search model\n",
    "rfc_random.fit(df_train, y_train)"
   ]
  },
  {
   "cell_type": "code",
   "execution_count": null,
   "id": "59ad6d80",
   "metadata": {},
   "outputs": [],
   "source": [
    "rfc_random.best_params_"
   ]
  },
  {
   "cell_type": "code",
   "execution_count": null,
   "id": "72fbdec2",
   "metadata": {},
   "outputs": [],
   "source": [
    "rfc_random.best_score_"
   ]
  },
  {
   "cell_type": "code",
   "execution_count": null,
   "id": "7fd3ba47",
   "metadata": {},
   "outputs": [],
   "source": [
    "rfc = RandomForestClassifier(**rfc_random.best_params_, random_state=86431)\n",
    "rfc.fit(df_train, y_train)\n",
    "\n",
    "y_pred = rfc.predict(df_test)"
   ]
  },
  {
   "cell_type": "code",
   "execution_count": null,
   "id": "dee16cdc",
   "metadata": {},
   "outputs": [],
   "source": [
    "confusion_matrix(y_test, y_pred, labels=[0,1])"
   ]
  },
  {
   "cell_type": "code",
   "execution_count": null,
   "id": "30686d4e",
   "metadata": {},
   "outputs": [],
   "source": [
    "print(f'Test Accuracy: {accuracy_score(y_test, y_pred)}')\n",
    "print(f'Test Classification Report: \\n {classification_report(y_test, y_pred)}')"
   ]
  },
  {
   "cell_type": "markdown",
   "id": "5428f0e7",
   "metadata": {},
   "source": [
    "### Modelling: XGBoost Classifier"
   ]
  },
  {
   "cell_type": "code",
   "execution_count": 33,
   "id": "43fa714e",
   "metadata": {},
   "outputs": [],
   "source": [
    "import xgboost as xgb"
   ]
  },
  {
   "cell_type": "code",
   "execution_count": 34,
   "id": "30ae7380",
   "metadata": {},
   "outputs": [],
   "source": [
    "dtrain = xgb.DMatrix(data=df_train, label=y_train)\n",
    "xgb_params = {\n",
    "    'eta': 0.01, \n",
    "    'max_depth': 6,\n",
    "    'min_child_weight': 1,\n",
    "    \n",
    "    'objective': 'binary:hinge',\n",
    "    'nthread': 8,\n",
    "    \n",
    "    'seed': 1,\n",
    "    'verbosity': 1,\n",
    "}\n",
    "\n",
    "model = xgb.train(xgb_params, dtrain, num_boost_round=100)"
   ]
  },
  {
   "cell_type": "code",
   "execution_count": 35,
   "id": "49396e6b",
   "metadata": {},
   "outputs": [],
   "source": [
    "dtest = xgb.DMatrix(data=df_test, label=y_test)\n",
    "y_pred = model.predict(dtest)"
   ]
  },
  {
   "cell_type": "code",
   "execution_count": 36,
   "id": "4ae12386",
   "metadata": {},
   "outputs": [
    {
     "data": {
      "text/plain": [
       "array([[36,  2],\n",
       "       [ 0, 66]], dtype=int64)"
      ]
     },
     "execution_count": 36,
     "metadata": {},
     "output_type": "execute_result"
    }
   ],
   "source": [
    "confusion_matrix(y_test, y_pred, labels=[0,1])"
   ]
  },
  {
   "cell_type": "code",
   "execution_count": 37,
   "id": "0bdcf207",
   "metadata": {},
   "outputs": [
    {
     "name": "stdout",
     "output_type": "stream",
     "text": [
      "Test Accuracy: 0.9807692307692307\n",
      "Test Classification Report: \n",
      "               precision    recall  f1-score   support\n",
      "\n",
      "           0       1.00      0.95      0.97        38\n",
      "           1       0.97      1.00      0.99        66\n",
      "\n",
      "    accuracy                           0.98       104\n",
      "   macro avg       0.99      0.97      0.98       104\n",
      "weighted avg       0.98      0.98      0.98       104\n",
      "\n"
     ]
    }
   ],
   "source": [
    "print(f'Test Accuracy: {accuracy_score(y_test, y_pred)}')\n",
    "print(f'Test Classification Report: \\n {classification_report(y_test, y_pred)}')"
   ]
  },
  {
   "cell_type": "code",
   "execution_count": null,
   "id": "0c853f93",
   "metadata": {},
   "outputs": [],
   "source": []
  }
 ],
 "metadata": {
  "kernelspec": {
   "display_name": "diabetes",
   "language": "python",
   "name": "diabetes"
  },
  "language_info": {
   "codemirror_mode": {
    "name": "ipython",
    "version": 3
   },
   "file_extension": ".py",
   "mimetype": "text/x-python",
   "name": "python",
   "nbconvert_exporter": "python",
   "pygments_lexer": "ipython3",
   "version": "3.8.5"
  }
 },
 "nbformat": 4,
 "nbformat_minor": 5
}
